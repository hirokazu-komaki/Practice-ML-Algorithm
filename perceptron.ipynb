{
 "cells": [
  {
   "cell_type": "markdown",
   "metadata": {},
   "source": [
    "# パーセプトロンの実装"
   ]
  },
  {
   "cell_type": "code",
   "execution_count": 16,
   "metadata": {},
   "outputs": [],
   "source": [
    "import numpy as np\n",
    "\n",
    "class Perceptron(object):\n",
    "    \"\"\"\n",
    "    This is a Perceptron class\n",
    "\n",
    "    Param:\n",
    "        eta: float, more than equal to 0.0, and less than eqaul to 1.0\n",
    "\n",
    "    Attribute:\n",
    "        w_: 1次元配列、低豪語の重み\n",
    "\n",
    "\n",
    "    \"\"\"\n",
    "    \n",
    "    def __init__(self, eta=0.01, n_iter=50, random_state=1):\n",
    "        self.eta = eta\n",
    "        self.n_iter = n_iter\n",
    "        self.random_state = random_state\n",
    "        \n",
    "        # モデルの学習\n",
    "        def fit(self, X, y):\n",
    "            # 乱数を生成\n",
    "            rgen = np.random.RandomState(self.random_state)\n",
    "            \n",
    "            # 重みの初期化\n",
    "            self.w_ = rgen.normal(loc=0.0, scale=0.01, size=1 + X.shape[1])\n",
    "            self.errors_ = []\n",
    "            \n",
    "            # トレーニング回数分　学習させる\n",
    "            for _ in range(self.n_iter):\n",
    "                errors = 0\n",
    "                \n",
    "                # 各サンプルで重みを更新\n",
    "                for xi, target in zip(X, y):\n",
    "                    update = self.eta * (traget - self.predict(xi))\n",
    "                    self.w_[1:] += update * xi\n",
    "                    \n",
    "                    # 重みw0の更新\n",
    "                    self.w_[0] += update \n",
    "                    errors += int(update != 0.0)\n",
    "                \n",
    "                # 反復回数毎の誤差（ex:1回目の訓練データで更新した重みと2回目の訓練データで更新した重みの差)\n",
    "                self.erros_.append(erros)\n",
    "            return self\n",
    "        \n",
    "        \n",
    "        def net_input(self, X):\n",
    "            # 総入力を計算\n",
    "            return np.dot(X, self.w_[1:]) + self.w_[0]\n",
    "        \n",
    "        \n",
    "        def predict(self, X):\n",
    "            # 各回の（1回目、2回目、・・・・、50回目）訓練データセットに対する予測値をだす\n",
    "            return np.where(self.net_input(X) >= 0.0, 1.0, -1)"
   ]
  },
  {
   "cell_type": "markdown",
   "metadata": {},
   "source": [
    "### がく片の長さと花びらの長さ、特徴量2つのみを使ってパーセプトロンの学習をする"
   ]
  },
  {
   "cell_type": "code",
   "execution_count": null,
   "metadata": {},
   "outputs": [],
   "source": []
  },
  {
   "cell_type": "markdown",
   "metadata": {},
   "source": [
    "### 実験"
   ]
  },
  {
   "cell_type": "code",
   "execution_count": 3,
   "metadata": {},
   "outputs": [
    {
     "name": "stdout",
     "output_type": "stream",
     "text": [
      "1 4\n",
      "2 5\n",
      "3 6\n"
     ]
    }
   ],
   "source": [
    "a = [1, 2, 3]\n",
    "b = [4, 5, 6]\n",
    "\n",
    "for i, j in zip(a, b):\n",
    "    print(i, j)"
   ]
  },
  {
   "cell_type": "code",
   "execution_count": 13,
   "metadata": {},
   "outputs": [
    {
     "data": {
      "text/plain": [
       "array([3, 6])"
      ]
     },
     "execution_count": 13,
     "metadata": {},
     "output_type": "execute_result"
    }
   ],
   "source": [
    "import numpy as np\n",
    "a = np.array([3, 6])\n",
    "a"
   ]
  },
  {
   "cell_type": "code",
   "execution_count": 14,
   "metadata": {},
   "outputs": [
    {
     "data": {
      "text/plain": [
       "(2,)"
      ]
     },
     "execution_count": 14,
     "metadata": {},
     "output_type": "execute_result"
    }
   ],
   "source": [
    "a.shape"
   ]
  },
  {
   "cell_type": "code",
   "execution_count": null,
   "metadata": {},
   "outputs": [],
   "source": []
  }
 ],
 "metadata": {
  "kernelspec": {
   "display_name": "Python 3",
   "language": "python",
   "name": "python3"
  },
  "language_info": {
   "codemirror_mode": {
    "name": "ipython",
    "version": 3
   },
   "file_extension": ".py",
   "mimetype": "text/x-python",
   "name": "python",
   "nbconvert_exporter": "python",
   "pygments_lexer": "ipython3",
   "version": "3.7.4"
  }
 },
 "nbformat": 4,
 "nbformat_minor": 4
}
